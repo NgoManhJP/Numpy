{
 "cells": [
  {
   "cell_type": "markdown",
   "metadata": {},
   "source": [
    "Kích thước của mảng\n",
    "Kích thước của một mảng numpy x nói chung được xác định bằng numpy.array.shape. Ví dụ:"
   ]
  },
  {
   "cell_type": "code",
   "execution_count": 1,
   "metadata": {},
   "outputs": [
    {
     "name": "stdout",
     "output_type": "stream",
     "text": [
      "(3,)\n"
     ]
    }
   ],
   "source": [
    "import numpy as np\n",
    "x = np.array([3,4,5])\n",
    "print(x.shape)"
   ]
  },
  {
   "cell_type": "markdown",
   "metadata": {},
   "source": [
    "Kết quả trả về là một tuple. Nếu x là một mảng một chiều, kết quả trả về sẽ có dạng (d,) trong đó d, là phần tử đầu tiên-và duy nhất- của tuple này, là số phẩn tử của x. Chú ý rằng sau số 3 còn dấu , nữa để chắc chắn rằng kết quả là 1 tuple.\n",
    "\n",
    "Để lấy giá trị d này, ta dùng:"
   ]
  },
  {
   "cell_type": "code",
   "execution_count": 2,
   "metadata": {},
   "outputs": [
    {
     "data": {
      "text/plain": [
       "3"
      ]
     },
     "execution_count": 2,
     "metadata": {},
     "output_type": "execute_result"
    }
   ],
   "source": [
    "d = x.shape[0]\n",
    "d"
   ]
  },
  {
   "cell_type": "markdown",
   "metadata": {},
   "source": [
    "Chỉ số\n",
    "\n",
    "Mỗi thành phần trong mảng 1 chiều tương ứng với một chỉ số. Chỉ số trong numpy, cũng giống như chỉ số trong python, bắt đầu bằng 0. Nếu mảng 1 chiều có d phần tử thì các chỉ số chạy từ 0 đến d - 1\n",
    "\n",
    "Đọc từng phần tử của vector\n",
    "\n",
    "Giả sử:"
   ]
  },
  {
   "cell_type": "code",
   "execution_count": 3,
   "metadata": {
    "collapsed": true
   },
   "outputs": [],
   "source": [
    "x = np.array([1,3,2])"
   ]
  },
  {
   "cell_type": "markdown",
   "metadata": {},
   "source": [
    "thì thành phần đầu tiên (bằng 1) được truy cập bằng x[0]:"
   ]
  },
  {
   "cell_type": "code",
   "execution_count": 4,
   "metadata": {},
   "outputs": [
    {
     "name": "stdout",
     "output_type": "stream",
     "text": [
      "1\n"
     ]
    }
   ],
   "source": [
    "print(x[0])"
   ]
  },
  {
   "cell_type": "markdown",
   "metadata": {},
   "source": [
    "Chỉ số ngược\n",
    "\n",
    "Trong Python có một điểm đặc biệt là Chỉ số ngược. Cho một mảng 1 chiều x có d phần tử. Để truy cập vào phần tử cuối cùng của mảng này, không cần biết d là bao nhiêu, ta có thể dùng chỉ số -1."
   ]
  },
  {
   "cell_type": "code",
   "execution_count": 6,
   "metadata": {},
   "outputs": [
    {
     "data": {
      "text/plain": [
       "16"
      ]
     },
     "execution_count": 6,
     "metadata": {},
     "output_type": "execute_result"
    }
   ],
   "source": [
    "x = np.array([1,2,3,2,3,4,5,6,7,23,1,3,5,7,8,9])\n",
    "d = x.shape[0]\n",
    "d"
   ]
  },
  {
   "cell_type": "code",
   "execution_count": 7,
   "metadata": {
    "scrolled": true
   },
   "outputs": [
    {
     "name": "stdout",
     "output_type": "stream",
     "text": [
      "9\n",
      "9\n"
     ]
    }
   ],
   "source": [
    "print(x[d-1])\n",
    "print(x[-1])"
   ]
  },
  {
   "cell_type": "markdown",
   "metadata": {},
   "source": [
    "Tương tự như thế, phần từ thứ hai từ cuối sẽ được truy cập bằng chỉ số -2, …\n",
    "\n",
    "Chú ý: Nếu một mảng một chiều x có số chiều là d thì chỉ số i trong x[i] phải là một số nguyên thoả mãn -d <= i <= d-1. Nếu i nằm ngoài khoảng này, khi sử dụng x[i] sẽ có lỗi index ... is out of bound....\n",
    "\n",
    "Thay đổi giá trị một phần tử của mảng\n",
    "Để thay giá trị một phần tử của mảng, ta dùng câu lệnh đơn giản:"
   ]
  },
  {
   "cell_type": "code",
   "execution_count": 8,
   "metadata": {},
   "outputs": [
    {
     "name": "stdout",
     "output_type": "stream",
     "text": [
      "[4 2 3]\n"
     ]
    }
   ],
   "source": [
    "a = np.array([1,2,3])\n",
    "a[0]=4\n",
    "print(a)"
   ]
  },
  {
   "cell_type": "markdown",
   "metadata": {},
   "source": [
    "Bài tập: Thay toàn bộ các phần tử của mảng bằng trung bình cộng các phần tử trong mảng đó, sử dụng vòng for. Hàm này không trả về biến nào mà chỉ thay đổi các giá trị của biến đầu vào x."
   ]
  },
  {
   "cell_type": "code",
   "execution_count": 11,
   "metadata": {
    "scrolled": true
   },
   "outputs": [
    {
     "name": "stdout",
     "output_type": "stream",
     "text": [
      "[ 5.5  5.5  5.5  5.5  5.5  5.5  5.5  5.5  5.5  5.5]\n"
     ]
    }
   ],
   "source": [
    "def myavg(x):\n",
    "    \"\"\"\n",
    "    :type x: a 1d array\n",
    "    :rtype: None\n",
    "    \"\"\"\n",
    "    # number of elements in x \n",
    "    d = x.shape[0]\n",
    "    # create a variable to store sum of all elements\n",
    "    res = 0 \n",
    "    for i in range(d):\n",
    "      # TODO: add the i-th element of x to res\n",
    "      res = res + x[i]\n",
    "      # -- end TODO --\n",
    "    # take average\n",
    "    m = res/d\n",
    "    # assign this new value to every element of x\n",
    "    for i in range(d):\n",
    "      # TODO: assign m to every element of x \n",
    "      x[i] = m\n",
    "      # -- end TODO -- \n",
    "    \n",
    "\n",
    "# create a 1d array\n",
    "x = np.array([1., 2, 3, 4, 5, 6, 7, 8, 9, 10])\n",
    "myavg(x)\n",
    "print(x)"
   ]
  }
 ],
 "metadata": {
  "kernelspec": {
   "display_name": "Python 3",
   "language": "python",
   "name": "python3"
  },
  "language_info": {
   "codemirror_mode": {
    "name": "ipython",
    "version": 3
   },
   "file_extension": ".py",
   "mimetype": "text/x-python",
   "name": "python",
   "nbconvert_exporter": "python",
   "pygments_lexer": "ipython3",
   "version": "3.6.3"
  }
 },
 "nbformat": 4,
 "nbformat_minor": 2
}
